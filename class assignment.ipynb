{
 "cells": [
  {
   "cell_type": "code",
   "execution_count": 10,
   "metadata": {},
   "outputs": [
    {
     "name": "stdout",
     "output_type": "stream",
     "text": [
      "Sub-fields in AI are:\n",
      "machine learning\n",
      "neural networks\n",
      "vision\n",
      "Robotics\n",
      "speech processing\n",
      "Natural language processing\n"
     ]
    }
   ],
   "source": [
    "class subfieldsInAI():\n",
    "    def subfields():\n",
    "        print(\"Sub-fields in AI are:\")\n",
    "        lists=['machine learning','neural networks','vision','Robotics','speech processing','Natural language processing']\n",
    "        for subfields.AI in lists:\n",
    "            print(subfields.AI)\n",
    "subfieldsInAI.subfields()"
   ]
  },
  {
   "cell_type": "code",
   "execution_count": 8,
   "metadata": {},
   "outputs": [
    {
     "name": "stdout",
     "output_type": "stream",
     "text": [
      "your Gender:male\n",
      "your age:20\n",
      "NOT ELIGIBLE\n"
     ]
    },
    {
     "data": {
      "text/plain": [
       "'NOT ELIGIBLE'"
      ]
     },
     "execution_count": 8,
     "metadata": {},
     "output_type": "execute_result"
    }
   ],
   "source": [
    "class Elegibilityformarriage():\n",
    "    def elegible():\n",
    "        gender=input(\"your Gender:\")\n",
    "        age=int(input(\"your age:\"))\n",
    "        if((age>=21 and gender==\"male\")or(age>=18 and gender==\"female\")):\n",
    "            print(\"ELIGIBLE\")\n",
    "            marriage=\"ELIGIBLE\"\n",
    "        else:\n",
    "            print(\"NOT ELIGIBLE\")\n",
    "            marriage=\"NOT ELIGIBLE\"\n",
    "        return marriage\n",
    "Elegibilityformarriage.elegible()"
   ]
  },
  {
   "cell_type": "code",
   "execution_count": 2,
   "metadata": {},
   "outputs": [
    {
     "name": "stdout",
     "output_type": "stream",
     "text": [
      "subject1=98\n",
      "subject2=87\n",
      "subject3=95\n",
      "subject4=95\n",
      "subject5=93\n",
      "Total: 468\n",
      "percentage: 93.60000000000001\n"
     ]
    },
    {
     "data": {
      "text/plain": [
       "'percentage:'"
      ]
     },
     "execution_count": 2,
     "metadata": {},
     "output_type": "execute_result"
    }
   ],
   "source": [
    "class findpercentage():\n",
    "    def percentage():\n",
    "        A=int(input(\"subject1=\"))\n",
    "        B=int(input(\"subject2=\"))\n",
    "        C=int(input(\"subject3=\"))\n",
    "        D=int(input(\"subject4=\"))\n",
    "        E=int(input(\"subject5=\"))\n",
    "        Total=A+B+C+D+E\n",
    "        percentage=Total/500*100\n",
    "        print(\"Total:\",Total)\n",
    "        mark=\"Total:\"\n",
    "        print(\"percentage:\",percentage)\n",
    "        mark=\"percentage:\"\n",
    "        return mark\n",
    "findpercentage.percentage()"
   ]
  },
  {
   "cell_type": "code",
   "execution_count": 5,
   "metadata": {},
   "outputs": [
    {
     "name": "stdout",
     "output_type": "stream",
     "text": [
      "Height:32\n",
      "Breadth:34\n",
      "area formula:(Height*Breadth)/2\n",
      "area of Triangle: 544.0\n",
      "Height1:2\n",
      "Height2:4\n",
      "Breadth:4\n",
      "perimeter formula:Height1+Height2+Breadth\n",
      "Perimeter of Triangle: 10\n"
     ]
    },
    {
     "data": {
      "text/plain": [
       "'Perimeter of Triangle:'"
      ]
     },
     "execution_count": 5,
     "metadata": {},
     "output_type": "execute_result"
    }
   ],
   "source": [
    "class triangle():\n",
    "    def triangle():\n",
    "        Height=int(input(\"Height:\"))\n",
    "        Breadth=int(input(\"Breadth:\"))\n",
    "        area=input(\"area formula:\")\n",
    "        Area=(Height*Breadth)/2\n",
    "        print(\"area of Triangle:\",Area)\n",
    "        angle=\"area of Triangle:\"\n",
    "        Height1=int(input(\"Height1:\"))\n",
    "        Height2=int(input(\"Height2:\"))\n",
    "        Breadth=int(input(\"Breadth:\"))\n",
    "        peri=input(\"perimeter formula:\")\n",
    "        Peri=Height1+Height2+Breadth\n",
    "        print(\"Perimeter of Triangle:\",Peri)\n",
    "        angle=\"Perimeter of Triangle:\"\n",
    "        return angle\n",
    "triangle.triangle()"
   ]
  },
  {
   "cell_type": "code",
   "execution_count": null,
   "metadata": {},
   "outputs": [],
   "source": []
  }
 ],
 "metadata": {
  "kernelspec": {
   "display_name": "Python 3",
   "language": "python",
   "name": "python3"
  },
  "language_info": {
   "codemirror_mode": {
    "name": "ipython",
    "version": 3
   },
   "file_extension": ".py",
   "mimetype": "text/x-python",
   "name": "python",
   "nbconvert_exporter": "python",
   "pygments_lexer": "ipython3",
   "version": "3.7.4"
  }
 },
 "nbformat": 4,
 "nbformat_minor": 2
}
